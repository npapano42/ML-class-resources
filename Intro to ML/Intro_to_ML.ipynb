{
  "cells": [
    {
      "cell_type": "markdown",
      "metadata": {
        "id": "DAqYUa0yMxG0"
      },
      "source": [
        "# Getting started\n"
      ]
    },
    {
      "attachments": {},
      "cell_type": "markdown",
      "metadata": {
        "id": "tILiJ6W1hjiq"
      },
      "source": [
        "This is a text block in a Jupyter Notebook. It uses Markdown for formatting.\n",
        "\n",
        "Sections use one hash: \"# example title\". It's the biggest and will pop up on the table of contents\n",
        "\n",
        "# Here's an example main header\n",
        "\n",
        "Subsections use two hashes, like so: \"## example section\". It's bigger than normal text, and code blocks can be sorted under it, but it's smaller than  the main sections. It may even pop up nested under a main header depending on the program\n",
        "\n",
        "## Here's an example subsection\n",
        "\n",
        "There's other formatting (such as hyperlinking text with brackets and parenthesis), feel free to [check it out here](https://www.markdownguide.org/cheat-sheet/) "
      ]
    },
    {
      "cell_type": "markdown",
      "metadata": {
        "id": "MpWhG9L0Wv37"
      },
      "source": [
        "# Learning Jupyter"
      ]
    },
    {
      "attachments": {},
      "cell_type": "markdown",
      "metadata": {
        "id": "Ms9VAbb3XrBv"
      },
      "source": [
        "## What is Jupyter notebooks?\n",
        "\n",
        "Jupyter uses a Jupyter server with Python on it\n",
        "\n",
        "Therefore, it can \"remember\" the output of code as well as cache it. The server can also be much more powerful/faster than the device you are coding on. Sometimes input data is so large it can't fit in any commerically available laptop/deskop!\n",
        "\n",
        "This also means code can be run on the server, then you can shut off your dev machine while it processes the output!\n",
        "\n",
        "On Google Colab, you can use their VMs for free (limited) compute by hitting the connect button in the top right, as well as host a local jupyter environment for a fully on-device setup if you look in the dropdown right next to it. If you'd like to try that on your own time, feel free."
      ]
    },
    {
      "cell_type": "markdown",
      "metadata": {
        "id": "d6a7jdHAY86j"
      },
      "source": [
        "Code is run as \"cells\". Generally it's good practice to have small snippets of code per cell.\n",
        "\n",
        "If you are writing a function, try to have only one function per cell"
      ]
    },
    {
      "cell_type": "code",
      "execution_count": null,
      "metadata": {
        "id": "DjkwP8OXWtYZ"
      },
      "outputs": [],
      "source": [
        "# Example code block\n",
        "\n",
        "# Running this code will set x to 100, and remember the output\n",
        "\n",
        "x = 100"
      ]
    },
    {
      "cell_type": "code",
      "execution_count": null,
      "metadata": {
        "colab": {
          "base_uri": "https://localhost:8080/"
        },
        "id": "HiZa3nrBWuE0",
        "outputId": "10ecc310-6af1-4410-b846-b4da513b7a43"
      },
      "outputs": [],
      "source": [
        "# Cells will also automatically print the final value returned in them, so no need to call print if you need just a single line output\n",
        "\n",
        "# Run this and you'll see the value of x pop up below, as it was set in the cell above\n",
        "x"
      ]
    },
    {
      "cell_type": "code",
      "execution_count": null,
      "metadata": {
        "colab": {
          "base_uri": "https://localhost:8080/"
        },
        "id": "4Ayr7nqnZQIR",
        "outputId": "08f2de9b-91c4-43b3-e389-3aec0fc3805d"
      },
      "outputs": [],
      "source": [
        "# another example of printing the output of a function call\n",
        "\n",
        "\"Machine Learning using Jupyter Notebooks is cool!\".split(\" \")"
      ]
    },
    {
      "cell_type": "code",
      "execution_count": null,
      "metadata": {
        "colab": {
          "base_uri": "https://localhost:8080/"
        },
        "id": "yZu5J89zKnek",
        "outputId": "33443f89-33f2-4fc7-f5e5-b18714cf9aa5"
      },
      "outputs": [],
      "source": [
        "# Getting multiple values can be done with a tuple\n",
        "\n",
        "x, \"example string\", [1, \"2\"]"
      ]
    },
    {
      "cell_type": "markdown",
      "metadata": {
        "id": "q125WNVhBFcN"
      },
      "source": [
        "### Do it yourself!\n",
        "\n",
        "Add a code cell below this, and assign y the value of 50 and z the value of 10.\n",
        "\n",
        "Then print out x, y, and z, so it pops up like so:\n",
        "\n",
        "x: 100\n",
        "\n",
        "y: 50\n",
        "\n",
        "z: 10\n",
        "\n"
      ]
    },
    {
      "cell_type": "markdown",
      "metadata": {
        "id": "pnmo1zICZvwQ"
      },
      "source": [
        "# Task 1: Function for getting the average of a list\n",
        " "
      ]
    },
    {
      "cell_type": "code",
      "execution_count": null,
      "metadata": {
        "colab": {
          "base_uri": "https://localhost:8080/"
        },
        "id": "CqYOltU-Z33r",
        "outputId": "f00b9805-84f9-46de-ecc4-5f1ea3004b2b"
      },
      "outputs": [],
      "source": [
        "\n",
        "# Replace the return statement with the right code to return the average of a list of numbers\n",
        "def avg(num_list: list) -> float:\n",
        "  return 0\n",
        "\n",
        "\n",
        "my_list = [1,2,4,8,16,32]\n",
        "\n",
        "# should output 10.5\n",
        "avg(my_list)"
      ]
    },
    {
      "cell_type": "markdown",
      "metadata": {
        "id": "hEmCDLw-a86J"
      },
      "source": [
        "# Task 2: Imports\n",
        "\n",
        "\n",
        "Imports are how we pull in libraries in python for use in the code. In libraries like Python and Javascript, there is a package manager called pip (npm in javascript) where you download libraries from. Java has one too, if you've seen the words \"Maven\" and \"Gradle\" floating around\n",
        "\n",
        "When you add libraries to python, there are two steps:\n",
        "1. Get the package onto your system. In this case, you'd use conda or pip to install the library onto your machine. On Colab, it's built for data scientists, so a lot of libaries come pre installed and we get to skip this step (usually) \n",
        "2. Import the libary so the code can read it. Some libraries are aliased with shorter names, but effectively it's the same thing. If you've seen\n",
        "`from {library} import {some_function}`, this just lets you load only what you need to speed up the process "
      ]
    },
    {
      "cell_type": "code",
      "execution_count": null,
      "metadata": {
        "id": "PoyaxVzhbBWC"
      },
      "outputs": [],
      "source": [
        "# Imports work as you'd expect, just throw them in and the runtime will \"remember it\"\n",
        "\n",
        "# Just remember that once imported, they will work even on cells above the one with the import, but will fail if the cells are run sequentially\n",
        "# Keep imports before any usages of that import to avoid this problem \n",
        "\n",
        "import pandas as pd\n",
        "import numpy as np\n",
        "\n",
        "df = pd.DataFrame(my_list)\n",
        "\n",
        "df"
      ]
    },
    {
      "attachments": {},
      "cell_type": "markdown",
      "metadata": {},
      "source": [
        "### Do it yourself!\n",
        "\n",
        "Look up online the line to output the size of a dataframe in pandas\n",
        "\n",
        "(for those of you that know python, look in the pandas library!)"
      ]
    },
    {
      "cell_type": "code",
      "execution_count": null,
      "metadata": {},
      "outputs": [],
      "source": [
        "df.?"
      ]
    },
    {
      "cell_type": "markdown",
      "metadata": {
        "id": "D0ckb11lBcjq"
      },
      "source": [
        "### \\*OPTIONAL CELL\\*\n",
        "---\n",
        "### `Sneak preview`\n",
        "Here are some imports that (with enabling GPU support), could take several days to get working properly if run on your own machine or local instance of jupyter. Installating Tensorflow on Windows\n",
        "\n",
        "Luckily, we're using Colab, so the underlying machine is ready for it\n",
        "\n",
        "Feel free to run these if you'd like, but we won't be using them (yet 😉)"
      ]
    },
    {
      "cell_type": "code",
      "execution_count": null,
      "metadata": {
        "colab": {
          "base_uri": "https://localhost:8080/"
        },
        "id": "iIjK0n78KFK_",
        "outputId": "a9dba451-28d2-432c-cf69-8a86bc71f2a4"
      },
      "outputs": [],
      "source": [
        "import torch\n",
        "\n",
        "torch_tensor_1 = torch.rand(3, 3)\n",
        "torch_tensor_2 = torch.rand(3, 3)\n",
        "\n",
        "torch.cross(torch_tensor_1, torch_tensor_2)"
      ]
    },
    {
      "cell_type": "code",
      "execution_count": null,
      "metadata": {
        "colab": {
          "base_uri": "https://localhost:8080/",
          "height": 422
        },
        "id": "4__d6ePOn0Cx",
        "outputId": "95d8bf4e-8481-4924-b9d5-3bf41f454fb2"
      },
      "outputs": [],
      "source": [
        "import tensorflow as tf\n",
        "from tensorflow.keras.layers import Dense\n",
        "from tensorflow.keras.models import Sequential\n",
        "\n",
        "model = tf.keras.models.Sequential([\n",
        "  tf.keras.layers.Dense(16, name=\"hidden_dense_1\", activation='relu'),\n",
        "  tf.keras.layers.Dense(32, name=\"hidden_dense_2\", activation='relu'),\n",
        "  tf.keras.layers.Dense(10)\n",
        "])\n",
        "\n",
        "model.build(input_shape=(10,10))\n",
        "\n",
        "\n",
        "tf.keras.utils.plot_model(\n",
        "model,\n",
        "show_shapes=True,\n",
        "show_dtype=False,\n",
        "show_layer_names=True,\n",
        "expand_nested=True,\n",
        "dpi=96,\n",
        "show_layer_activations=True\n",
        ")"
      ]
    }
  ],
  "metadata": {
    "colab": {
      "provenance": [],
      "toc_visible": true
    },
    "kernelspec": {
      "display_name": "Python 3",
      "language": "python",
      "name": "python3"
    },
    "language_info": {
      "name": "python",
      "version": "3.9.5"
    },
    "vscode": {
      "interpreter": {
        "hash": "ec33f1ada22dfb543652ecf6569b7e90ab9e467cf1235f6a962b8c9e2ebe11af"
      }
    }
  },
  "nbformat": 4,
  "nbformat_minor": 0
}
